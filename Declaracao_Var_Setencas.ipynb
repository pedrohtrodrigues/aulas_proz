{
  "nbformat": 4,
  "nbformat_minor": 0,
  "metadata": {
    "colab": {
      "provenance": [],
      "authorship_tag": "ABX9TyMc2KbsT1FeJ1La7SoYZgI3"
    },
    "kernelspec": {
      "name": "python3",
      "display_name": "Python 3"
    },
    "language_info": {
      "name": "python"
    }
  },
  "cells": [
    {
      "cell_type": "markdown",
      "source": [
        "Cada exercício da tabela em anexo tem declaração de variáveis e, na sequência, uma sentença que usa as variáveis e operadores lógicos. Determine qual é o resultado final (Verdadeiro ou Falso) de cada sentença."
      ],
      "metadata": {
        "id": "ZxO8KgzZh3SW"
      }
    },
    {
      "cell_type": "code",
      "source": [
        "# Desenvolva um algoritmo que utilize as seguintes características de um veículo:\n",
        "#- Quantidade de rodas;\n",
        "#- Peso bruto em quilogramas;\n",
        "#- Quantidade de pessoas no veículo.\n",
        "\n",
        "#Com essas informações, o programa mostrará qual é a melhor categoria de habilitação para o veículo informado a partir das condições:\n",
        "#A: Veículos com duas ou três rodas;\n",
        "#B: Veículos com quatro rodas, que acomodam até oito pessoas e seu peso é de até 3500 kg;\n",
        "#C: Veículos com quatro rodas ou mais e com peso entre 3500 e 6000 kg;\n",
        "#D: Veículos com quatro rodas ou mais e que acomodam mais de oito pessoas;\n",
        "#E: Veículos com quatro rodas ou mais e com mais de 6000 kg.\n",
        "\n",
        "rodas = 6\n",
        "peso = 6500\n",
        "pessoas = 8\n",
        "\n",
        "if (rodas == 2) or (rodas == 3):\n",
        "  print(\"Categoria A\")\n",
        "elif (rodas == 4) and (pessoas <= 8) and (peso < 3500):\n",
        "  print(\"Categoria B\")\n",
        "elif (rodas == 4) or ((peso >= 3500) and (peso <= 6000)):\n",
        "  print(\"Categoria C\")\n",
        "elif (rodas >= 4) and (pessoas > 8):\n",
        "    print (\"Categoria D\")\n",
        "elif (rodas >= 4) and (peso > 6000):\n",
        "    print (\"Categoria E\")"
      ],
      "metadata": {
        "colab": {
          "base_uri": "https://localhost:8080/"
        },
        "id": "AdG-vKeAhYmR",
        "outputId": "bd983981-f15c-401b-fe66-74c7cc0ec7d4"
      },
      "execution_count": null,
      "outputs": [
        {
          "output_type": "stream",
          "name": "stdout",
          "text": [
            "Categoria E\n"
          ]
        }
      ]
    },
    {
      "cell_type": "code",
      "execution_count": null,
      "metadata": {
        "colab": {
          "base_uri": "https://localhost:8080/"
        },
        "id": "nNCr0044hu2M",
        "outputId": "8bc5f3c6-3287-4d79-9f72-f92e518168d2"
      },
      "outputs": [
        {
          "output_type": "stream",
          "name": "stdout",
          "text": [
            "Verdadeiro\n"
          ]
        }
      ],
      "source": [
        "# 1\n",
        "# Variáveis nota = 10\n",
        "#Setença  nota <=10\n",
        "\n",
        "nota = 10\n",
        "if nota <= 10:\n",
        "  print(\"Verdadeiro\")\n",
        "else:\n",
        "  print(\"Falso\")"
      ]
    },
    {
      "cell_type": "code",
      "source": [
        "# 2\n",
        "# Variáveis nota = 6\n",
        "# Variáveis faltas = 4\n",
        "#Setença  nota (<= 6) and (faltas <=3)\n",
        "\n",
        "nota = 6\n",
        "faltas = 4\n",
        "\n",
        "if (nota <= 6) and (faltas <= 3):\n",
        "  print(\"Verdadeiro\")\n",
        "else:\n",
        "  print(\"Falso\")"
      ],
      "metadata": {
        "colab": {
          "base_uri": "https://localhost:8080/"
        },
        "id": "1UzAV0rqidW3",
        "outputId": "82d41110-cb63-40f7-e475-f3616f613e58"
      },
      "execution_count": null,
      "outputs": [
        {
          "output_type": "stream",
          "name": "stdout",
          "text": [
            "Falso\n"
          ]
        }
      ]
    },
    {
      "cell_type": "code",
      "source": [
        "# 3\n",
        "# Variáveis convidados = 3\n",
        "# Variáveis fumante = False\n",
        "#Setença  (convidados > 4) or (fumante == True)\n",
        "\n",
        "convidados = 3\n",
        "fumante = False\n",
        "\n",
        "if (convidados > 4) or (fumante == True):\n",
        "  print(\"Verdadeiro\")\n",
        "else:\n",
        "  print(\"Falso\")"
      ],
      "metadata": {
        "colab": {
          "base_uri": "https://localhost:8080/"
        },
        "id": "ijJiT1Zljwgm",
        "outputId": "e053e5e6-cb2b-4f2d-b4cf-34f97b8b25b4"
      },
      "execution_count": null,
      "outputs": [
        {
          "output_type": "stream",
          "name": "stdout",
          "text": [
            "Falso\n"
          ]
        }
      ]
    },
    {
      "cell_type": "code",
      "source": [
        "# 4\n",
        "# Variáveis dia = \"qua\"\n",
        "#Setença  (dia == \"qua\") or (dia == \"dom\")\n",
        "\n",
        "dia = \"qua\"\n",
        "\n",
        "if (dia == \"sab\") or (dia == \"dom\"):\n",
        "  print(\"Verdadeiro\")\n",
        "else:\n",
        "  print(\"Falso\")"
      ],
      "metadata": {
        "colab": {
          "base_uri": "https://localhost:8080/"
        },
        "id": "_eBNYMejl1Nm",
        "outputId": "e5c42f60-6c7c-4148-fcd3-b5316fbee646"
      },
      "execution_count": null,
      "outputs": [
        {
          "output_type": "stream",
          "name": "stdout",
          "text": [
            "Verdadeiro\n"
          ]
        }
      ]
    },
    {
      "cell_type": "code",
      "source": [
        "# 5\n",
        "# Variáveis feriado = True\n",
        "#Setença  not(feriado == False)\n",
        "\n",
        "feriado = True\n",
        "\n",
        "if not(feriado == False):\n",
        "  print(\"Verdadeiro\")\n",
        "else:\n",
        "  print(\"Falso\")"
      ],
      "metadata": {
        "colab": {
          "base_uri": "https://localhost:8080/"
        },
        "id": "TKRCQtgamtGF",
        "outputId": "a3d95e13-14b4-46bf-8f10-8eb5661421ed"
      },
      "execution_count": null,
      "outputs": [
        {
          "output_type": "stream",
          "name": "stdout",
          "text": [
            "Verdadeiro\n"
          ]
        }
      ]
    },
    {
      "cell_type": "code",
      "source": [
        "# 6\n",
        "# Variáveis dia = \"Ter\"\n",
        "# Variáveis feriado = False\n",
        "#Setença (dia == \"seg\") or !(feriado == False)\n",
        "\n",
        "dia = \"ter\"\n",
        "feriado = False\n",
        "\n",
        "if (dia == \"seg\") or !(feriado == False):\n",
        "  print(\"Verdadeiro\")\n",
        "else:\n",
        "  print(\"Falso\")"
      ],
      "metadata": {
        "colab": {
          "base_uri": "https://localhost:8080/",
          "height": 106
        },
        "id": "QHOsightm9xG",
        "outputId": "93c15192-eaae-42e4-8b77-9003180784ae"
      },
      "execution_count": null,
      "outputs": [
        {
          "output_type": "error",
          "ename": "SyntaxError",
          "evalue": "invalid syntax (<ipython-input-8-9b736d13da52>, line 9)",
          "traceback": [
            "\u001b[0;36m  File \u001b[0;32m\"<ipython-input-8-9b736d13da52>\"\u001b[0;36m, line \u001b[0;32m9\u001b[0m\n\u001b[0;31m    if (dia == \"seg\") or !(feriado == False):\u001b[0m\n\u001b[0m                         ^\u001b[0m\n\u001b[0;31mSyntaxError\u001b[0m\u001b[0;31m:\u001b[0m invalid syntax\n"
          ]
        }
      ]
    }
  ]
}